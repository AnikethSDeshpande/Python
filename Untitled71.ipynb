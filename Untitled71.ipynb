{
 "cells": [
  {
   "cell_type": "code",
   "execution_count": 1,
   "metadata": {},
   "outputs": [
    {
     "ename": "IndentationError",
     "evalue": "unexpected indent (<ipython-input-1-c111ee1f2498>, line 11)",
     "output_type": "error",
     "traceback": [
      "\u001b[1;36m  File \u001b[1;32m\"<ipython-input-1-c111ee1f2498>\"\u001b[1;36m, line \u001b[1;32m11\u001b[0m\n\u001b[1;33m    words=line.split()\u001b[0m\n\u001b[1;37m    ^\u001b[0m\n\u001b[1;31mIndentationError\u001b[0m\u001b[1;31m:\u001b[0m unexpected indent\n"
     ]
    }
   ],
   "source": [
    "name = input(\"Enter file:\")\n",
    "if len(name) < 1 : \n",
    "    name = \"mbox-short.txt\"\n",
    "handle = open(name)\n",
    "text = handle.read()\n",
    "\n",
    "mail=dict()\n",
    "\n",
    "for line in handle:\n",
    "    if not line.startswith(\"From\"): continue\n",
    "        words=line.split()\n",
    "        email=words[1]\n",
    "        mail[email]=mail.get(email,0)+1\n",
    "\n",
    "\n",
    "bigcount = None\n",
    "bigemail = None\n",
    "for mail,count in mail.items():\n",
    "    if bigcount is None or count > bigcount:\n",
    "        bigemail = email\n",
    "        bigcount = count\n",
    "        \n",
    "print(bigemail,bigcount)        \n",
    "\n",
    "\n"
   ]
  },
  {
   "cell_type": "code",
   "execution_count": null,
   "metadata": {},
   "outputs": [],
   "source": []
  }
 ],
 "metadata": {
  "kernelspec": {
   "display_name": "Python 3",
   "language": "python",
   "name": "python3"
  },
  "language_info": {
   "codemirror_mode": {
    "name": "ipython",
    "version": 3
   },
   "file_extension": ".py",
   "mimetype": "text/x-python",
   "name": "python",
   "nbconvert_exporter": "python",
   "pygments_lexer": "ipython3",
   "version": "3.7.3"
  }
 },
 "nbformat": 4,
 "nbformat_minor": 2
}
