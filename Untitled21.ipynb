{
 "cells": [
  {
   "cell_type": "code",
   "execution_count": 3,
   "metadata": {},
   "outputs": [
    {
     "name": "stdout",
     "output_type": "stream",
     "text": [
      "        country    capital   area  population\n",
      "0         India       Dehl  8.516      200.40\n",
      "1           Pak     Kabul   17.10      143.50\n",
      "2      Srilanka         SM  3.286     1252.00\n",
      "3         Nepal  Kathmandu  9.597     1357.00\n",
      "4  South Africa   Pretoria  1.221       52.98\n"
     ]
    }
   ],
   "source": [
    "dict = {\"country\": [\"India\", \"Pak\", \"Srilanka\", \"Nepal\", \"South Africa\"],\n",
    "       \"capital\": [\"Dehli\", \"Kabul \", \"SM\", \"Kathmandu\", \"Pretoria\"],\n",
    "       \"area\": ['8.516', '17.10', '3.286', '9.597', '1.221'],\n",
    "       \"population\": [200.4, 143.5, 1252, 1357, 52.98]}\n",
    "\n",
    "import pandas as pd\n",
    "brics = pd.DataFrame(dict)\n",
    "print(brics)"
   ]
  },
  {
   "cell_type": "code",
   "execution_count": null,
   "metadata": {},
   "outputs": [],
   "source": []
  },
  {
   "cell_type": "code",
   "execution_count": null,
   "metadata": {},
   "outputs": [],
   "source": []
  }
 ],
 "metadata": {
  "kernelspec": {
   "display_name": "Python 3",
   "language": "python",
   "name": "python3"
  },
  "language_info": {
   "codemirror_mode": {
    "name": "ipython",
    "version": 3
   },
   "file_extension": ".py",
   "mimetype": "text/x-python",
   "name": "python",
   "nbconvert_exporter": "python",
   "pygments_lexer": "ipython3",
   "version": "3.7.3"
  }
 },
 "nbformat": 4,
 "nbformat_minor": 2
}
