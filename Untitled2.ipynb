{
 "cells": [
  {
   "cell_type": "code",
   "execution_count": 11,
   "metadata": {},
   "outputs": [
    {
     "name": "stdout",
     "output_type": "stream",
     "text": [
      "Virat\n",
      "IND\n",
      "Batsmen\n",
      "5222\n"
     ]
    }
   ],
   "source": [
    "class player():\n",
    "    def player_details(var):\n",
    "        var.name=\"Virat\"\n",
    "        var.Nation=\"IND\"\n",
    "        var.Role=\"Batsmen\"\n",
    "        var.runs=\"5222\"\n",
    "var=player()\n",
    "var.player_details()\n",
    "print(var.name)\n",
    "print(var.Nation)\n",
    "print(var.Role)\n",
    "print(var.runs)"
   ]
  },
  {
   "cell_type": "code",
   "execution_count": 20,
   "metadata": {},
   "outputs": [
    {
     "name": "stdout",
     "output_type": "stream",
     "text": [
      "As\n"
     ]
    }
   ],
   "source": [
    "class hello:\n",
    "    def __init__(self,name=\"As\"):\n",
    "        self.var=name\n",
    "    def fun(self):\n",
    "        return(self.var)\n",
    "ob=hello()\n",
    "print(ob.fun())"
   ]
  },
  {
   "cell_type": "code",
   "execution_count": 21,
   "metadata": {},
   "outputs": [
    {
     "name": "stdout",
     "output_type": "stream",
     "text": [
      "A\n"
     ]
    }
   ],
   "source": [
    "class hello:\n",
    "    def __init__(me,name):\n",
    "        me.var=name\n",
    "    def fun(me):\n",
    "        return(me.var)\n",
    "ob=hello(\"A\")\n",
    "print(ob.fun())"
   ]
  },
  {
   "cell_type": "code",
   "execution_count": null,
   "metadata": {},
   "outputs": [],
   "source": []
  },
  {
   "cell_type": "code",
   "execution_count": null,
   "metadata": {},
   "outputs": [],
   "source": []
  }
 ],
 "metadata": {
  "kernelspec": {
   "display_name": "Python 3",
   "language": "python",
   "name": "python3"
  },
  "language_info": {
   "codemirror_mode": {
    "name": "ipython",
    "version": 3
   },
   "file_extension": ".py",
   "mimetype": "text/x-python",
   "name": "python",
   "nbconvert_exporter": "python",
   "pygments_lexer": "ipython3",
   "version": "3.7.3"
  }
 },
 "nbformat": 4,
 "nbformat_minor": 2
}
