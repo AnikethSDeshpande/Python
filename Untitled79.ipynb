{
 "cells": [
  {
   "cell_type": "code",
   "execution_count": null,
   "metadata": {},
   "outputs": [
    {
     "name": "stdout",
     "output_type": "stream",
     "text": [
      "BIRTHDAY INFO\n",
      "Enter the user details\n",
      "Enter your name:A\n"
     ]
    }
   ],
   "source": [
    "\n",
    "# coding: utf-8\n",
    "#Authors:Anirudha S Gudi,Aniketh Deshpande\n",
    "\n",
    "\n",
    "import calendar\n",
    "#Calendar module allows output calendars like the program and provides additional useful functions related to the calendar.\n",
    "from datetime import date,timedelta\n",
    "#The datetime module supplies classes for manipulating dates and times in both simple and complex ways.\n",
    "#Timedelta object represents a duration, the difference between two dates or times.\n",
    "\n",
    "#PROGRAM\n",
    "print(\"BIRTHDAY INFO\")\n",
    "\n",
    "print(\"Enter the user details\")\n",
    "name=str(input(\"Enter your name:\"))\n",
    "year = int(input('Enter a year:'))\n",
    "month = int(input('Enter a month:'))\n",
    "day = int(input('Enter a date:'))\n",
    "today=date.today()\n",
    "dob = date(year, month, day)\n",
    "birthday = date(dob.year, dob.month, dob.day)\n",
    "day_name=date(int(today.year), int(dob.month), int(dob.day))\n",
    "ps = 'You were born on {0}\\nThis year your birthday is on: {1}'.format(birthday.strftime(\"%A\"), day_name.strftime(\"%A\"))\n",
    "print(ps)\n",
    "\n",
    "\n",
    "no_of_days_spent_on_this_world=(today-dob).days\n",
    "print(\"no_of_days_spent_on_this_world\",no_of_days_spent_on_this_world)\n",
    "\n",
    "\n",
    "remainingdays = (birthday-today)\n",
    "\n",
    "\n",
    "\n",
    "\n",
    "f_date =date(int(today.year), int(today.month), int(today.day)) #2020-04-19\n",
    "l_date = date(2021,int(dob.month), int(dob.day))                #2021-01-01\n",
    "print(f_date)\n",
    "print(l_date)\n",
    "countdown = (l_date - f_date)\n",
    "print(countdown.days)\n",
    "\n",
    "\n",
    "# In[34]:\n",
    "\n",
    "\n",
    "print(remainingdays)\n",
    "\n",
    "\n",
    "\n",
    "print(today.year)\n",
    "print(year)\n",
    "print(today.month)\n",
    "print(today.day)\n",
    "print(month)\n",
    "\n",
    "\n",
    "\n",
    "#Age function\n",
    "def calculate_age(born):\n",
    "    today = date.today()\n",
    "    return today.year - year - ((today.month, today.day) < (month, day))\n",
    "\n",
    "age = calculate_age(dob)\n",
    "print(\"AGE\",age)"
   ]
  },
  {
   "cell_type": "code",
   "execution_count": null,
   "metadata": {},
   "outputs": [],
   "source": []
  }
 ],
 "metadata": {
  "kernelspec": {
   "display_name": "Python 3",
   "language": "python",
   "name": "python3"
  },
  "language_info": {
   "codemirror_mode": {
    "name": "ipython",
    "version": 3
   },
   "file_extension": ".py",
   "mimetype": "text/x-python",
   "name": "python",
   "nbconvert_exporter": "python",
   "pygments_lexer": "ipython3",
   "version": "3.7.3"
  }
 },
 "nbformat": 4,
 "nbformat_minor": 2
}
