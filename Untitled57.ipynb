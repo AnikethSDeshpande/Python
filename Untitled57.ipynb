{
 "cells": [
  {
   "cell_type": "markdown",
   "metadata": {},
   "source": [
    "write a python program to display color for specified color code"
   ]
  },
  {
   "cell_type": "code",
   "execution_count": null,
   "metadata": {},
   "outputs": [],
   "source": [
    "n=int(input(\"enter the color code\"))\n",
    "if n==1:\n",
    "    print(\"Red\")\n",
    "elif n==2:\n",
    "    print(\"Green\")\n",
    "elif n==3:\n",
    "    print(\"Yellow\")\n",
    "elif n==4:\n",
    "    print(\"Blue\")\n",
    "elif n==5:\n",
    "    print(\"Black\")\n",
    "else:\n",
    "    print(\"Not Available:\"+\" Wrong Entry\")"
   ]
  },
  {
   "cell_type": "markdown",
   "metadata": {},
   "source": [
    "write a program to convert a number and generate another a number which is incremmented"
   ]
  },
  {
   "cell_type": "code",
   "execution_count": null,
   "metadata": {},
   "outputs": [],
   "source": [
    "n=int(input(\"enter the num\"))\n",
    "c=0\n",
    "\n",
    "while num != 0:\n",
    "    num=num//10\n",
    "    c=c+1\n",
    "print(\"count=\",c)"
   ]
  },
  {
   "cell_type": "code",
   "execution_count": null,
   "metadata": {},
   "outputs": [],
   "source": [
    "num=int(input(\"enter the num\"))\n",
    "c=0\n",
    "temp=0\n",
    "num1=num\n",
    "while num != 0:\n",
    "    num=num//10\n",
    "    temp=temp*10;\n",
    "    temp=temp+1\n",
    "    \n",
    "print(\"newnumber=\",num1+temp)"
   ]
  },
  {
   "cell_type": "code",
   "execution_count": null,
   "metadata": {},
   "outputs": [],
   "source": [
    "10//3"
   ]
  },
  {
   "cell_type": "code",
   "execution_count": null,
   "metadata": {},
   "outputs": [],
   "source": [
    "10/3"
   ]
  },
  {
   "cell_type": "code",
   "execution_count": null,
   "metadata": {},
   "outputs": [],
   "source": [
    "for i in range(1,5,2):\n",
    "    print(i, i+1)"
   ]
  },
  {
   "cell_type": "code",
   "execution_count": null,
   "metadata": {},
   "outputs": [],
   "source": [
    "for i in range(0,200000000000000000000000,20):\n",
    "    print(\"The table is\",i)"
   ]
  },
  {
   "cell_type": "code",
   "execution_count": 32,
   "metadata": {},
   "outputs": [
    {
     "ename": "NameError",
     "evalue": "name 'tax' is not defined",
     "output_type": "error",
     "traceback": [
      "\u001b[1;31m---------------------------------------------------------------------------\u001b[0m",
      "\u001b[1;31mNameError\u001b[0m                                 Traceback (most recent call last)",
      "\u001b[1;32m<ipython-input-32-58f0803c6958>\u001b[0m in \u001b[0;36m<module>\u001b[1;34m\u001b[0m\n\u001b[0;32m      5\u001b[0m     \u001b[0mtax\u001b[0m\u001b[1;33m=\u001b[0m\u001b[0mcalc_tax\u001b[0m\u001b[1;33m(\u001b[0m\u001b[1;36m100.0\u001b[0m\u001b[1;33m,\u001b[0m\u001b[1;36m10\u001b[0m\u001b[1;33m)\u001b[0m\u001b[1;33m\u001b[0m\u001b[1;33m\u001b[0m\u001b[0m\n\u001b[0;32m      6\u001b[0m     \u001b[0mprint\u001b[0m\u001b[1;33m(\u001b[0m\u001b[1;34m\"Tax:\"\u001b[0m\u001b[1;33m,\u001b[0m\u001b[0mtax\u001b[0m\u001b[1;33m)\u001b[0m\u001b[1;33m\u001b[0m\u001b[1;33m\u001b[0m\u001b[0m\n\u001b[1;32m----> 7\u001b[1;33m \u001b[1;32mif\u001b[0m \u001b[0mtax\u001b[0m\u001b[1;33m>=\u001b[0m\u001b[1;36m1000\u001b[0m\u001b[1;33m:\u001b[0m\u001b[1;33m\u001b[0m\u001b[1;33m\u001b[0m\u001b[0m\n\u001b[0m\u001b[0;32m      8\u001b[0m     \u001b[0mtax\u001b[0m\u001b[1;33m=\u001b[0m\u001b[0mtax\u001b[0m\u001b[1;33m+\u001b[0m\u001b[1;36m1000\u001b[0m\u001b[1;33m\u001b[0m\u001b[1;33m\u001b[0m\u001b[0m\n\u001b[0;32m      9\u001b[0m     \u001b[0mprint\u001b[0m\u001b[1;33m(\u001b[0m\u001b[1;34m\"Tax after deduction as per the criteria\"\u001b[0m\u001b[1;33m,\u001b[0m\u001b[0mtax\u001b[0m\u001b[1;33m)\u001b[0m\u001b[1;33m\u001b[0m\u001b[1;33m\u001b[0m\u001b[0m\n",
      "\u001b[1;31mNameError\u001b[0m: name 'tax' is not defined"
     ]
    }
   ],
   "source": [
    "def calc_tax(amount,tax_rate):\n",
    "    tax=amount*tax_rate\n",
    "    return tax\n",
    "def main():\n",
    "    tax=calc_tax(100.0,10)\n",
    "    print(\"Tax:\",tax)\n",
    "if tax>=1000:\n",
    "    tax=tax+1000\n",
    "    print(\"Tax after deduction as per the criteria\",tax)\n",
    "else:\n",
    "    tax=tax-500\n",
    "    print(\"Same Tax:\",tax)    \n"
   ]
  },
  {
   "cell_type": "code",
   "execution_count": 33,
   "metadata": {},
   "outputs": [
    {
     "name": "stdout",
     "output_type": "stream",
     "text": [
      "enter the numer:12\n"
     ]
    }
   ],
   "source": [
    "n=int(input(\"enter the numer:\"))"
   ]
  },
  {
   "cell_type": "code",
   "execution_count": null,
   "metadata": {},
   "outputs": [],
   "source": [
    "n\n"
   ]
  },
  {
   "cell_type": "code",
   "execution_count": null,
   "metadata": {},
   "outputs": [],
   "source": []
  }
 ],
 "metadata": {
  "kernelspec": {
   "display_name": "Python 3",
   "language": "python",
   "name": "python3"
  },
  "language_info": {
   "codemirror_mode": {
    "name": "ipython",
    "version": 3
   },
   "file_extension": ".py",
   "mimetype": "text/x-python",
   "name": "python",
   "nbconvert_exporter": "python",
   "pygments_lexer": "ipython3",
   "version": "3.7.3"
  }
 },
 "nbformat": 4,
 "nbformat_minor": 2
}
