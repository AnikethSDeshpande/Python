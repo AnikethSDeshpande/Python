{
 "cells": [
  {
   "cell_type": "code",
   "execution_count": 2,
   "metadata": {},
   "outputs": [],
   "source": [
    "import pandas as pd\n",
    "import numpy as np\n",
    "from datetime import datetime\n",
    "import matplotlib.pyplot as plt"
   ]
  },
  {
   "cell_type": "code",
   "execution_count": 8,
   "metadata": {},
   "outputs": [
    {
     "data": {
      "text/html": [
       "<div>\n",
       "<style scoped>\n",
       "    .dataframe tbody tr th:only-of-type {\n",
       "        vertical-align: middle;\n",
       "    }\n",
       "\n",
       "    .dataframe tbody tr th {\n",
       "        vertical-align: top;\n",
       "    }\n",
       "\n",
       "    .dataframe thead th {\n",
       "        text-align: right;\n",
       "    }\n",
       "</style>\n",
       "<table border=\"1\" class=\"dataframe\">\n",
       "  <thead>\n",
       "    <tr style=\"text-align: right;\">\n",
       "      <th></th>\n",
       "      <th>Grade': 'B'</th>\n",
       "      <th>'first_name': 'Amit'</th>\n",
       "      <th>'last_name': 'A'</th>\n",
       "    </tr>\n",
       "  </thead>\n",
       "  <tbody>\n",
       "    <tr>\n",
       "      <th>0</th>\n",
       "      <td>Grade': 'A'</td>\n",
       "      <td>'first_name': 'Abhi'</td>\n",
       "      <td>'last_name': 'S'</td>\n",
       "    </tr>\n",
       "    <tr>\n",
       "      <th>1</th>\n",
       "      <td>Grade': 'C'</td>\n",
       "      <td>'first_name': 'Sam'</td>\n",
       "      <td>'last_name': 'Curan'</td>\n",
       "    </tr>\n",
       "    <tr>\n",
       "      <th>2</th>\n",
       "      <td>Grade': 'B'</td>\n",
       "      <td>'first_name': 'Karan'</td>\n",
       "      <td>'last_name': 'Nath'</td>\n",
       "    </tr>\n",
       "    <tr>\n",
       "      <th>3</th>\n",
       "      <td>Grade': 'A'</td>\n",
       "      <td>'first_name': 'Vijay'</td>\n",
       "      <td>'last_name': 'Kumar'</td>\n",
       "    </tr>\n",
       "  </tbody>\n",
       "</table>\n",
       "</div>"
      ],
      "text/plain": [
       "   Grade': 'B'    'first_name': 'Amit'      'last_name': 'A' \n",
       "0  Grade': 'A'    'first_name': 'Abhi'       'last_name': 'S'\n",
       "1  Grade': 'C'     'first_name': 'Sam'   'last_name': 'Curan'\n",
       "2  Grade': 'B'   'first_name': 'Karan'    'last_name': 'Nath'\n",
       "3  Grade': 'A'   'first_name': 'Vijay'   'last_name': 'Kumar'"
      ]
     },
     "execution_count": 8,
     "metadata": {},
     "output_type": "execute_result"
    }
   ],
   "source": [
    "data=pd.read_csv(\"untitled1.csv\")\n",
    "data\n"
   ]
  },
  {
   "cell_type": "code",
   "execution_count": 9,
   "metadata": {},
   "outputs": [
    {
     "name": "stdout",
     "output_type": "stream",
     "text": [
      "[OrderedDict([(\"Grade': 'B'\", \"Grade': 'A'\"), (\" 'first_name': 'Amit'\", \" 'first_name': 'Abhi'\"), (\" 'last_name': 'A' \", \" 'last_name': 'S'\")]), OrderedDict([(\"Grade': 'B'\", \"Grade': 'C'\"), (\" 'first_name': 'Amit'\", \" 'first_name': 'Sam'\"), (\" 'last_name': 'A' \", \" 'last_name': 'Curan'\")]), OrderedDict([(\"Grade': 'B'\", \"Grade': 'B'\"), (\" 'first_name': 'Amit'\", \" 'first_name': 'Karan'\"), (\" 'last_name': 'A' \", \" 'last_name': 'Nath'\")]), OrderedDict([(\"Grade': 'B'\", \"Grade': 'A'\"), (\" 'first_name': 'Amit'\", \" 'first_name': 'Vijay'\"), (\" 'last_name': 'A' \", \" 'last_name': 'Kumar'\")])]\n"
     ]
    }
   ],
   "source": [
    "import csv\n",
    " \n",
    "results = []\n",
    "with open('untitled1.csv') as File:\n",
    "    reader = csv.DictReader(File)\n",
    "    for row in reader:\n",
    "        results.append(row)\n",
    "    print(results)"
   ]
  },
  {
   "cell_type": "code",
   "execution_count": 10,
   "metadata": {},
   "outputs": [
    {
     "ename": "SyntaxError",
     "evalue": "invalid syntax (<ipython-input-10-95b159aa6078>, line 4)",
     "output_type": "error",
     "traceback": [
      "\u001b[1;36m  File \u001b[1;32m\"<ipython-input-10-95b159aa6078>\"\u001b[1;36m, line \u001b[1;32m4\u001b[0m\n\u001b[1;33m    ['Amit', 'last_name': 'A'],\u001b[0m\n\u001b[1;37m                        ^\u001b[0m\n\u001b[1;31mSyntaxError\u001b[0m\u001b[1;31m:\u001b[0m invalid syntax\n"
     ]
    }
   ],
   "source": []
  },
  {
   "cell_type": "code",
   "execution_count": null,
   "metadata": {},
   "outputs": [],
   "source": []
  }
 ],
 "metadata": {
  "kernelspec": {
   "display_name": "Python 3",
   "language": "python",
   "name": "python3"
  },
  "language_info": {
   "codemirror_mode": {
    "name": "ipython",
    "version": 3
   },
   "file_extension": ".py",
   "mimetype": "text/x-python",
   "name": "python",
   "nbconvert_exporter": "python",
   "pygments_lexer": "ipython3",
   "version": "3.7.3"
  }
 },
 "nbformat": 4,
 "nbformat_minor": 2
}
